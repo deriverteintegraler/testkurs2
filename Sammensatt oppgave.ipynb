{
  "cells": [
    {
      "metadata": {
        "collapsed": true
      },
      "cell_type": "markdown",
      "source": "## Sammensatt oppgave\nDu skal skrive et program som summerer tall som brukeren angir. Brukeren skal begynne med å opplyse om en grense for summen og en grense for antall tall som skal summeres. Hvis summen når den grensen skal programmet avbrytes. Brukeren skal få gi ett og ett tall. Programmet skal kontrollere om inputen er positive heltall. Hvis den ikke er et positivt heltall skal det ikke summeres, men det skal telle mot antallet tall som kan oppgis.\n\nNår man når grensen for summen eller grensen for antall tall skal programmet be om en input til. Denne inputen skal også være et positivt heltall, og det skal være lik eller mindre enn antall ting som bruker har gitt når tallene skal summeres. Denne inputen skal brukes for å printe inputen bruker ga. Hvis bruker svarer 0 her skal all input printes, ett element per linje.\n\nTil å begynne med trenger du ikke tenke på å kontrollere om inputen er positive heltall. Begynn med å anta at brukeren alltid gir korrekt input.\n\nBegynn med å lage et flytskjema for programmet.\n\nLag deretter selve programmet, men dropp gjerne den siste printingen til å begynne med.\n\nLegg til printingen basert på brukers siste svar.\n\nPrøv så å få programmet til å kræsje ved å gi ulovlig input, og fiks en og en feil etterhvert som du finner dem.\n\nUnder kan du se eksempel på kjøring av programmet med forventet resultat. Når du har laget ditt eget program kan du prøve å gi samme input og se om du får samme output. Hvis du ikke får det, prøv å endre ditt program så det gir samme output."
    },
    {
      "metadata": {},
      "cell_type": "markdown",
      "source": "Hva er grensen for summen av tallene? 15\n\nHvor mange tall vil du summere? 8\n\nHva er neste tall du vil legge til? 2\n\nHva er neste tall du vil legge til? 5\n\nHva er neste tall du vil legge til? 7\n\nHva er neste tall du vil legge til? 3\n\nHvilken input du ga vil du kontrollere? 3\n\n7\n"
    },
    {
      "metadata": {},
      "cell_type": "markdown",
      "source": "Hva er grensen for summen av tallene? 20\n\nHvor mange tall vil du summere? 4\n\nHva er neste tall du vil legge til? 1\n\nHva er neste tall du vil legge til? 2\n\nHva er neste tall du vil legge til? 3\n\nHva er neste tall du vil legge til? 6\n\nHvilken input du ga vil du kontrollere? 4\n\n6"
    },
    {
      "metadata": {},
      "cell_type": "markdown",
      "source": "Hva er grensen for summen av tallene? 10\n\nHvor mange tall vil du summere? 10\n\nHva er neste tall du vil legge til? 3\n\nHva er neste tall du vil legge til? 2\n\nHva er neste tall du vil legge til? 2\n\nHva er neste tall du vil legge til? 1\n\nHva er neste tall du vil legge til? 8\n\nHvilken input du ga vil du kontrollere? 0\n\n3\n\n2\n\n2\n\n1\n\n8"
    },
    {
      "metadata": {},
      "cell_type": "markdown",
      "source": "Hva er grensen for summen av tallene? 20\n\nHvor mange tall vil du summere? 10\n\nHva er neste tall du vil legge til? 1\n\nHva er neste tall du vil legge til? 2\n\nHva er neste tall du vil legge til? 3\n\nHva er neste tall du vil legge til? 4\n\nHva er neste tall du vil legge til? 5\n\nHva er neste tall du vil legge til? tar\n\nHva er neste tall du vil legge til? er\n\nHva er neste tall du vil legge til? sdgd\n\nHva er neste tall du vil legge til? 10\n\nHvilken input du ga vil du kontrollere? 0\n\n1\n\n2\n\n3\n\n4\n\n5\n\ntar\n\ner\n\nsdgd\n\n10"
    },
    {
      "metadata": {
        "trusted": true
      },
      "cell_type": "code",
      "source": "def inputErOk(inputFraBruker):\n    if inputFraBruker.isdigit() and int(inputFraBruker) > 0:\n        return(True)\n    else:\n        return(False)\n    \ndef bedreInputErOk(inputFraBruker):\n    return(inputFraBruker.isdigit() and int(inputFraBruker) > 0)\n\ndef printListe(listen):\n    tekst = \"\"\n    for element in listen:\n        tekst += element + '\\n'\n    tekst.rstrip('\\n')\n    print(tekst)\n\ndef program():\n    grense = input(\"Hva er grensen for summen av tallene? \")\n    while not inputErOk(grense):\n        grense = input(\"Hva er grensen for summen av tallene? \")\n    grense = int(grense)\n    \n    antall = input(\"Hvor mange tall vil du summere? \")\n    while not inputErOk(antall):\n        antall = input(\"Hvor mange tall vil du summere? \")\n    antall = int(antall)\n    \n    summen = 0\n    teller = 0\n    inputListe = []\n    \n    while summen < grense and teller < antall:\n        nyttTall = input(\"Hva er neste tall du vil legge til? \")\n        inputListe.append(nyttTall)\n        teller += 1\n        if inputErOk(nyttTall):\n            summen += int(nyttTall)\n        \n    kontrollTall = input(\"Hvilken input du ga vil du kontrollere? \")\n    while not (kontrollTall.isdigit() and int(kontrollTall) >= 0 and int(kontrollTall) <= len(inputListe)):\n        kontrollTall = input(\"Hvilken input du ga vil du kontrollere? \")\n    kontrollTall = int(kontrollTall)\n    \n    if kontrollTall == 0:\n        printListe(inputListe)\n    else:\n        print(inputListe[kontrollTall-1])",
      "execution_count": 17,
      "outputs": []
    },
    {
      "metadata": {
        "trusted": true
      },
      "cell_type": "code",
      "source": "program()",
      "execution_count": 19,
      "outputs": [
        {
          "output_type": "stream",
          "name": "stdout",
          "text": "Hva er grensen for summen av tallene? 10\nHvor mange tall vil du summere? 10\nHva er neste tall du vil legge til? 3\nHva er neste tall du vil legge til? 2\nHva er neste tall du vil legge til? 2\nHva er neste tall du vil legge til? 1\nHva er neste tall du vil legge til? 8\nHvilken input du ga vil du kontrollere? 0\n3\n2\n2\n1\n8\n\n"
        }
      ]
    },
    {
      "metadata": {
        "trusted": true
      },
      "cell_type": "code",
      "source": "",
      "execution_count": null,
      "outputs": []
    }
  ],
  "metadata": {
    "kernelspec": {
      "name": "python36",
      "display_name": "Python 3.6",
      "language": "python"
    },
    "language_info": {
      "mimetype": "text/x-python",
      "nbconvert_exporter": "python",
      "name": "python",
      "pygments_lexer": "ipython3",
      "version": "3.6.6",
      "file_extension": ".py",
      "codemirror_mode": {
        "version": 3,
        "name": "ipython"
      }
    }
  },
  "nbformat": 4,
  "nbformat_minor": 2
}