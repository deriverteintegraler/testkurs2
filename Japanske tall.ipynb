{
  "cells": [
    {
      "metadata": {
        "trusted": true
      },
      "cell_type": "code",
      "source": "#!/usr/bin/env python3\n\n\"\"\"\nThis is a program to help you study the Japanese numbers.\nIt currently goes from 0 to 99; I will extend it at a later date.\nIt can be executed as follows:\n    ./numerica.py\nwhich will do all the available numbers, or\n    ./numberica.py 10\nwhich will go only up to 10.\n\"\"\"\n\nnumbers = ['ZERO',\n           'いち',\n           'に',\n           'さん',\n           'よん',\n           'ご',\n           'ろく',\n           'なな',\n           'はち',\n           'きゅう',\n           'じゅう',\n           ]\n\n\nclass OutOfRangeException(Exception):\n    pass\n\n\ndef small_to_japanese(n):\n    \"Convert a number (0-10) to Japanese.\"\n    if n > 10 or n < 0:\n        raise OutOfRangeException\n\n    return numbers[n]\n\n\ndef medium_to_japanese(n):\n    \"Convert a number from 11 - 100 to Japanese\"\n    if n > 100 or n < 11:\n        raise OutOfRangeException\n\n    digits = list(map(\n        int, str(n)\n    ))\n\n    out = \"\"\n\n    # Omit いち in numbers > 10\n    if digits[0] > 1:\n        out += numbers[digits[0]] + \" \"\n    out += numbers[10] + \" \"\n    out += numbers[digits[1]]\n    return out\n\n\ndef number_to_japanese(n):\n    try:\n        return small_to_japanese(n)\n    except OutOfRangeException:\n        pass\n\n    try:\n        return medium_to_japanese(n)\n    except OutOfRangeException:\n        pass\n\n    print(\"No way to represent numbers of that magnitude!\")\n\n\nif __name__ == \"__main__\":\n    from random import randint\n    from sys import argv\n\n    # Øysteins tillegg\n    # Sett antall til det antallet tall du vil teste\n    antall = 10\n    argv = [0, antall]\n    \n    # Check if there is a command line option for max numbers\n    if len(argv) >= 2:\n        try:\n            MAX_NUM = int(argv[1])\n        except ValueError:\n            MAX_NUM = -1\n\n        # A little edge case handling\n        if MAX_NUM > 99:\n            print(\"Impossible - this program doesn't \"\n                  \"work with numbers over 99.\")\n            exit(1)\n\n    else:\n        # If a max wasn't given, default to 99\n        MAX_NUM = 99\n\n    given = \"\"\n    done_so_far = []\n    number_done = 0\n\n    while True:\n        n = randint(0, MAX_NUM)\n        # If and as long as n has already been done, get a new number.\n        while n in done_so_far:\n            n = randint(0, MAX_NUM)\n\n        try:\n            given = input(\"What is {} in Roman numbers? \".format(\n                number_to_japanese(n)))\n        except KeyboardInterrupt:\n            print(\"Bye!\")\n            exit(1)\n        except EOFError:\n            print(\"Bye!\")\n            exit(1)\n\n        if given.lower() == 'quit':\n            print(\"Bye!\")\n            exit(0)\n        if number_done >= MAX_NUM:\n            print(\"You did all the numbers in that set!\")\n            exit(0)\n\n        try:\n            given_n = int(given)\n        except ValueError:\n            given_n = -1\n\n        if given_n == n:\n            print(\"You got it!\")\n            done_so_far.append(n)\n            number_done += 1\n        else:\n            print(\"No, that's incorrect. This is {}.\".format(n))",
      "execution_count": null,
      "outputs": []
    }
  ],
  "metadata": {
    "kernelspec": {
      "name": "python36",
      "display_name": "Python 3.6",
      "language": "python"
    },
    "language_info": {
      "mimetype": "text/x-python",
      "nbconvert_exporter": "python",
      "name": "python",
      "pygments_lexer": "ipython3",
      "version": "3.6.6",
      "file_extension": ".py",
      "codemirror_mode": {
        "version": 3,
        "name": "ipython"
      }
    }
  },
  "nbformat": 4,
  "nbformat_minor": 2
}