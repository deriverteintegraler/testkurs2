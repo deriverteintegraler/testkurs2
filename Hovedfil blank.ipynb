{
 "cells": [
  {
   "cell_type": "markdown",
   "metadata": {},
   "source": [
    "# Introduksjon til programmering med Øystein Grøndahl\n",
    "Vi skal se på hvordan man må tenke og på de grunnleggende elementene i programmering, og noen ferdige verktøy og elementer som vi kan modifisere til egen bruk.\n",
    "\n",
    "Det finnes hele mastergradsprogrammer i programmering. Dette er bare en introduksjon på én dag. Husk at det alltid finnes flere måter å gjøre ting på, dette er ingen fasit.\n",
    "\n",
    "En av de viktigste anvendelsene av dataverktøy er å automatisere handlinger som skal gjentas mange ganger. Dette gjøres med løkker (engelsk: loops). En annen er å sjekke om noe er sant, og bare hvis det er sant utføre en eller flere handlinger. Dettte gjøres med betingede valg (if-else-strukturer).\n",
    "\n",
    "Alle handlingene en datamaskin kan utføre kan i prinsippet utføres av mennesker som følger samme instruksjoner og som har god nok tid."
   ]
  },
  {
   "cell_type": "markdown",
   "metadata": {},
   "source": [
    "## 3 aktiviteter, hva er farligst?\n",
    "Datamaskinene kan ikke tenke selv, vi må gi dem instruksjoner, og vi må være presise. Det hjelper ikke å si \"Den burde skjønt at jeg ikke mente det slik\" eller \"Den burde skjønt at det skulle stått et komma der og ikke et punktum\" osv. Det er vårt ansvar å gi presise instruksjoner etter de reglene som gjelder i det aktuelle programmeringsspråket."
   ]
  },
  {
   "cell_type": "markdown",
   "metadata": {
    "collapsed": true
   },
   "source": [
    "## Kortpoeng\n",
    "Vi skal nå trekke kort fra en kortstokk og gi et visst antall poeng avhengig av de to reglene under. Vi skal huske poengene og legge sammen fra runde til runde og se hva totalen er. Vi begynner med null poeng.\n",
    "\n",
    "Hvis kortet er spar, legg til 2 poeng.\n",
    "Ellers, hvis kortet er hjerter, legg til 1 poeng.\n",
    "Ellers, trekk fra 1 poeng.\n",
    "\n",
    "Hvis kortet er et bildekort (J, Q, K), legg til 5 poeng.\n",
    "Ellers, legg til så mange poeng som tallet kortet representerer.\n",
    "\n",
    "H5\n",
    "SJ\n",
    "CK\n",
    "\n",
    "D4\n",
    "SQ\n",
    "H8\n",
    "\n",
    "\n",
    "\n",
    "\n",
    "\n",
    "\n",
    "\n",
    "###### Tegn flytskjema for dette\n",
    "Hva skjer med ess?\n",
    "\n",
    "Hva skjer med joker? Bridgereglene?\n",
    "\n",
    "Hva skjer hvis vi trekker kløver eller ruter som første kort?\n",
    "\n",
    "### Testcase 1\n",
    "H5: poeng = 6\n",
    "\n",
    "SJ: poeng = 13\n",
    "\n",
    "CK: poeng = 17\n",
    "\n",
    "### Testcase 2\n",
    "D4: poeng = 3\n",
    "\n",
    "SQ: poeng = 10\n",
    "\n",
    "H8: poeng = 19"
   ]
  },
  {
   "cell_type": "code",
   "execution_count": null,
   "metadata": {
    "collapsed": true
   },
   "outputs": [],
   "source": [
    "poeng = 0\n",
    "\n",
    "def kortpoeng(kort):\n",
    "    \"\"\"\n",
    "    Kortene skal gis på formen 'HQ' for hjerter dame, 'C3' for kløver 3.\n",
    "    C-clubs-kløver\n",
    "    S-spades-spar\n",
    "    H-hearts-hjerter\n",
    "    D-diamonds-ruter\n",
    "    K-king-konge\n",
    "    Q-queen-dame\n",
    "    J-jack-knekt\n",
    "    \"\"\"\n",
    "    global poeng\n",
    "    \n",
    "    farge = kort[0]\n",
    "    verdi = kort[1:]\n",
    "    \n",
    "    if farge == 'S':\n",
    "        poeng += 2\n",
    "    elif farge == 'H':\n",
    "        poeng += 1\n",
    "    else:\n",
    "        poeng -= 1\n",
    "        \n",
    "    \n",
    "    if verdi == 'K' or verdi == 'Q' or verdi == 'J':\n",
    "        poeng += 5\n",
    "    else:\n",
    "        poeng += int(verdi)\n",
    "    print('Du har nå',poeng,'poeng.')\n",
    "    # print('Du har nå '+str(poeng)+' poeng.')"
   ]
  },
  {
   "cell_type": "code",
   "execution_count": null,
   "metadata": {
    "collapsed": true
   },
   "outputs": [],
   "source": [
    "kortpoeng('S3')"
   ]
  },
  {
   "cell_type": "markdown",
   "metadata": {},
   "source": [
    "### Øving 1\n",
    "#### a)\n",
    "Lag flytskjema for kortreglene som er definert nedenfor.\n",
    "\n",
    "Hvis kortet er kløver, legg til 1 poeng. Ellers, hvis kortet er spar, legg til 2 poeng. Ellers, hvis kortet er ruter, legg til 3 poeng. Ellers, trekk fra 1 poeng.\n",
    "\n",
    "Hvis kortet er ess eller 2, gang antall poeng med 2.\n",
    "\n",
    "Test:\n",
    "\n",
    "Starter på null poeng.\n",
    "\n",
    "Kløver ess: 2\n",
    "\n",
    "Ruter to: 10\n",
    "\n",
    "Spar fire: 12\n",
    "\n",
    "#### b)\n",
    "Fyll inn de linjene som mangler i koden nedenfor for å skape et program som gir poeng til ulike kort etter reglene over."
   ]
  },
  {
   "cell_type": "code",
   "execution_count": null,
   "metadata": {
    "collapsed": true
   },
   "outputs": [],
   "source": [
    "poeng = 0\n",
    "\n",
    "def kortpoeng2(kort):\n",
    "    \"\"\"\n",
    "    Kortene skal gis på formen 'HQ' for hjerter dame, 'C3' for kløver 3.\n",
    "    C-clubs-kløver\n",
    "    S-spades-spar\n",
    "    H-hearts-hjerter\n",
    "    D-diamonds-ruter\n",
    "    A-ace-ess\n",
    "    K-king-konge\n",
    "    Q-queen-dame\n",
    "    J-jack-knekt\n",
    "    \"\"\"\n",
    "    global poeng\n",
    "    \n",
    "    farge = kort[0]\n",
    "    verdi = kort[1:]\n",
    "    \n",
    "    # Linje 1-8 brukes til første if-else-struktur\n",
    "    # Linje 1\n",
    "    # Linje 2\n",
    "    # Linje 3\n",
    "    # Linje 4\n",
    "    # Linje 5\n",
    "    # Linje 6\n",
    "    # Linje 7\n",
    "    # Linje 8\n",
    "    \n",
    "    # Linje 9-10 brukes til andre if-else-struktur\n",
    "    # Linje 9\n",
    "    # Linje 10\n",
    "    \n",
    "    print('Du har nå',poeng,'poeng.')"
   ]
  },
  {
   "cell_type": "code",
   "execution_count": null,
   "metadata": {
    "collapsed": true
   },
   "outputs": [],
   "source": [
    "kortpoeng2('CA')\n",
    "kortpoeng2('D2')\n",
    "kortpoeng2('S4')"
   ]
  },
  {
   "cell_type": "markdown",
   "metadata": {},
   "source": [
    "### Øving 2\n",
    "#### a)\n",
    "Lag flytskjema for kortreglene som er definert nedenfor.\n",
    "\n",
    "Hvis kortet ikke er konge, legg til 2 poeng. Ellers, legg til 5 poeng.\n",
    "\n",
    "Hvis kortet er hjerter tre eller hjerter fire, legg til 7 poeng.\n",
    "\n",
    "Hvis kortet ikke er kløver tre, trekk fra 1 poeng.\n",
    "\n",
    "\n",
    "Test:\n",
    "\n",
    "Starter på null poeng.\n",
    "\n",
    "Kløver ess: 1\n",
    "\n",
    "Hjerter fire: 9\n",
    "\n",
    "Spar konge: 13\n",
    "\n",
    "\n",
    "#### b)\n",
    "Fyll inn de linjene som mangler i koden nedenfor for å skape et program som gir poeng til ulike kort etter reglene over."
   ]
  },
  {
   "cell_type": "code",
   "execution_count": null,
   "metadata": {
    "collapsed": true
   },
   "outputs": [],
   "source": [
    "poeng = 0\n",
    "\n",
    "def kortpoeng3(kort):\n",
    "    \"\"\"\n",
    "    Kortene skal gis på formen 'HQ' for hjerter dame, 'C3' for kløver 3.\n",
    "    C-clubs-kløver\n",
    "    S-spades-spar\n",
    "    H-hearts-hjerter\n",
    "    D-diamonds-ruter\n",
    "    A-ace-ess\n",
    "    K-king-konge\n",
    "    Q-queen-dame\n",
    "    J-jack-knekt\n",
    "    \"\"\"\n",
    "    global poeng\n",
    "    \n",
    "    farge = kort[0]\n",
    "    verdi = kort[1:]\n",
    "    \n",
    "    # Linje 1-4 brukes til første if-else-struktur\n",
    "    # Linje 1\n",
    "    # Linje 2\n",
    "    # Linje 3\n",
    "    # Linje 4\n",
    "    \n",
    "    # Linje 5-6 brukes til andre if-else-struktur\n",
    "    # Linje 5\n",
    "    # Linje 6\n",
    "    \n",
    "    # Linje 7-8 brukes til tredje if-else-struktur\n",
    "    # Linje 7\n",
    "    # Linje 8\n",
    "    \n",
    "    print('Du har nå',poeng,'poeng.')"
   ]
  },
  {
   "cell_type": "code",
   "execution_count": null,
   "metadata": {
    "collapsed": true
   },
   "outputs": [],
   "source": [
    "kortpoeng3('CA')\n",
    "kortpoeng3('H4')\n",
    "kortpoeng3('SK')"
   ]
  },
  {
   "cell_type": "markdown",
   "metadata": {},
   "source": [
    "## If-else-strukturer\n",
    "Vi har nå brukt if-else-strukturer. Dette er et ekstremt viktig verktøy i programmering. Det lar oss utføre ulike handlinger avhengig av en eller flere kontroller. Dette gjør vi i hverdagen hver eneste gang vi gjør et valg.\n",
    "\n",
    "Det generelle mønsteret er:\n",
    "\n",
    "> if kontroll1:\n",
    "    \n",
    ">     handling1\n",
    "    \n",
    ">     handling2\n",
    "    \n",
    ">     osv.\n",
    "\n",
    "> elif kontroll2:\n",
    "    \n",
    ">     handling3\n",
    "    \n",
    ">     handling4\n",
    "    \n",
    ">     osv.\n",
    "\n",
    "> elif kontroll3:\n",
    "    \n",
    ">     handling5\n",
    "    \n",
    ">     handling6\n",
    "    \n",
    ">     osv.\n",
    "\n",
    "\n",
    "\n",
    "> elif kontroll_n:\n",
    "    \n",
    ">     handling_n\n",
    "    \n",
    ">     handling_n+1\n",
    "    \n",
    ">     osv.\n",
    "\n",
    "> else:\n",
    "    \n",
    ">     handling_n+2\n",
    "    \n",
    ">     handling_n+3\n",
    "    \n",
    ">     osv.\n",
    "\n",
    "    \n",
    "Vi kan ha hvor mange \"elif\"-kontroller vi vil. Det kan være null.\n",
    "\n",
    "Vi kan velge å ha \"else\" til slutt, men vi kan også la være.\n",
    "\n",
    "Maksimalt ETT av handlingssporene blir kjørt."
   ]
  },
  {
   "cell_type": "markdown",
   "metadata": {},
   "source": [
    "## Funksjoner\n",
    "Vi har også brukt funksjoner. En funksjon er et sett med handlinger som utføres på en eller flere inputs, og som til slutt gir en output. Vi bruker funksjoner dersom samme sett med handlinger skal utføres flere ganger med ulike inputs, eller bare for å dele opp kode i flere mindre biter."
   ]
  },
  {
   "cell_type": "code",
   "execution_count": null,
   "metadata": {
    "collapsed": true
   },
   "outputs": [],
   "source": [
    "import math\n",
    "\n",
    "radius = 1\n",
    "areal = math.pi * radius**2\n",
    "if areal < 10:\n",
    "    areal_avrundet = round(areal, 2)\n",
    "elif areal < 100:\n",
    "    areal_avrundet = round(areal, 1)\n",
    "else:\n",
    "    areal_avrundet = round(areal, 0)\n",
    "    areal_avrundet = int(areal_avrundet)\n",
    "print(radius, areal_avrundet)\n",
    "\n",
    "radius = 2\n",
    "areal = math.pi * radius**2\n",
    "if areal < 10:\n",
    "    areal_avrundet = round(areal, 2)\n",
    "elif areal < 100:\n",
    "    areal_avrundet = round(areal, 1)\n",
    "else:\n",
    "    areal_avrundet = round(areal, 0)\n",
    "    areal_avrundet = int(areal_avrundet)\n",
    "print(radius, areal_avrundet)\n",
    "\n",
    "radius = 3\n",
    "areal = math.pi * radius**2\n",
    "if areal < 10:\n",
    "    areal_avrundet = round(areal, 2)\n",
    "elif areal < 100:\n",
    "    areal_avrundet = round(areal, 1)\n",
    "else:\n",
    "    areal_avrundet = round(areal, 0)\n",
    "    areal_avrundet = int(areal_avrundet)\n",
    "print(radius, areal_avrundet)\n",
    "\n",
    "radius = 20\n",
    "areal = math.pi * radius**2\n",
    "if areal < 10:\n",
    "    areal_avrundet = round(areal, 2)\n",
    "elif areal < 100:\n",
    "    areal_avrundet = round(areal, 1)\n",
    "else:\n",
    "    areal_avrundet = round(areal, 0)\n",
    "    areal_avrundet = int(areal_avrundet)\n",
    "print(radius, areal_avrundet)"
   ]
  },
  {
   "cell_type": "markdown",
   "metadata": {},
   "source": [
    "Det vi gjorde over var å beregne areal og avrunde etter gitte regler i fire ulike tilfeller. Her er det mye vi gjør gjentatte ganger. Dette kan forenkles. Vi kan f.eks. skrive en funksjon for å beregne arealet og en funksjon for avrundingsreglene."
   ]
  },
  {
   "cell_type": "code",
   "execution_count": null,
   "metadata": {
    "collapsed": true
   },
   "outputs": [],
   "source": [
    "import math\n",
    "def sirkel_areal(radius):    \n",
    "    areal = math.pi * radius**2\n",
    "    return(areal)\n",
    "\n",
    "def avrund(tall):\n",
    "    if tall < 10:\n",
    "        tall_avrundet = round(tall, 2)\n",
    "    elif tall < 100:\n",
    "        tall_avrundet = round(tall, 1)\n",
    "    else:\n",
    "        tall_avrundet = round(tall, 0)\n",
    "        tall_avrundet = int(tall_avrundet)\n",
    "    return(tall_avrundet)"
   ]
  },
  {
   "cell_type": "code",
   "execution_count": null,
   "metadata": {
    "collapsed": true
   },
   "outputs": [],
   "source": [
    "radius1 = 1\n",
    "radius2 = 2\n",
    "radius3 = 3\n",
    "radius4 = 20\n",
    "\n",
    "a1 = sirkel_areal(radius1)\n",
    "a2 = sirkel_areal(radius2)\n",
    "a3 = sirkel_areal(radius3)\n",
    "a4 = sirkel_areal(radius4)\n",
    "\n",
    "a1_avrundet = avrund(a1)\n",
    "a2_avrundet = avrund(a2)\n",
    "a3_avrundet = avrund(a3)\n",
    "a4_avrundet = avrund(a4)\n",
    "\n",
    "print(radius1, a1_avrundet)\n",
    "print(radius2, a2_avrundet)\n",
    "print(radius3, a3_avrundet)\n",
    "print(radius4, a4_avrundet)"
   ]
  },
  {
   "cell_type": "markdown",
   "metadata": {},
   "source": [
    "Ved å bruke lister kan vi gjøre dette litt mer kompakt. Lister er ikke i fokus akkurat nå, men vi ser på det for å se hvordan dette kunne vært gjort."
   ]
  },
  {
   "cell_type": "code",
   "execution_count": null,
   "metadata": {
    "collapsed": true
   },
   "outputs": [],
   "source": [
    "radius_liste = [1, 2, 3, 20]\n",
    "areal_liste = []\n",
    "\n",
    "for radius in radius_liste:\n",
    "    areal = sirkel_areal(radius)\n",
    "    areal_avrundet = avrund(areal)\n",
    "    areal_liste.append(areal_avrundet)\n",
    "\n",
    "for i in range(len(radius_liste)):\n",
    "    print(radius_liste[i], areal_liste[i])"
   ]
  },
  {
   "cell_type": "markdown",
   "metadata": {},
   "source": [
    "Funksjoner er noe vi bruker mye i programmering. I Python er det generelle mønsteret for å definere en funksjon som vist under. Legg merke til at det er et innrykk på alle linjene etter den første. Innrykket er et tab, knappen over caps lock.\n",
    "\n",
    "> def funksjonsnavn(input1, input2, input3, ..., inputn):\n",
    "\n",
    ">     \"\"\"Hjelpetekst for funksjonen\"\"\"\n",
    "\n",
    ">     handling_1\n",
    "    \n",
    ">     handling_2\n",
    "    \n",
    ">     ...\n",
    "    \n",
    ">     handling_k\n",
    "    \n",
    ">     return(output1, output2, output3, ..., outputm)\n",
    "\n",
    "For å bruke funksjonen skriver vi som vist under.\n",
    "\n",
    "(mottatt_output1, mottatt_output2, ..., mottatt_outputm) = funksjonsnavn(input1, input2, input3, ..., inputn)\n",
    "\n",
    "Det er ikke nødvendig at det er like mange inputs som det er outputs. Det er nødvendig å ha like mange mottatt_outputs som det er outputs inne i funksjonen. Under er et eksempel på en funksjon og bruk av den."
   ]
  },
  {
   "cell_type": "code",
   "execution_count": null,
   "metadata": {
    "collapsed": true
   },
   "outputs": [],
   "source": [
    "def min_funksjon(vinkel1, vinkel2, vinkel3):\n",
    "    \"\"\"\n",
    "    Funksjonens inputs er tre vinkler gitt i radianer. Disse må være tall, men kan være både positive og negative, og kan være desimaltall.\n",
    "    Funksjonen beregner gjennomsnittet av inputvinklene, cosinus til hver vinkel og cosinus til gjennomsnittsvinkelen.\n",
    "    Funksjonen returnerer gjennomsnittet av inputvinklene, cosinus til gjennomsnittsvinkelen og cosinus til hver vinkel.\n",
    "    \"\"\"\n",
    "    import math\n",
    "    gjennomsnitt = (vinkel1 + vinkel2 + vinkel3)/3\n",
    "    cos1 = math.cos(vinkel1)\n",
    "    cos2 = math.cos(vinkel2)\n",
    "    cos3 = math.cos(vinkel3)\n",
    "    cosgj = math.cos(gjennomsnitt)\n",
    "    return(gjennomsnitt, cosgj, cos1, cos2, cos3)"
   ]
  },
  {
   "cell_type": "code",
   "execution_count": null,
   "metadata": {
    "collapsed": true,
    "scrolled": true
   },
   "outputs": [],
   "source": [
    "(eple, banan, drue, kattepus, kanin) = min_funksjon(0.1, 4.5, 6.28)\n",
    "# Legg merke til at vi kan kalle outputene hva som helst.\n",
    "# Antall inputs på høyre side må være lik antall inputs i funksjonsdefinisjonen.\n",
    "# Antall outputs vi tar imot på venstre side må være lik antall outputs som funksjonen returnerer.\n",
    "\n",
    "print(eple)\n",
    "print(kanin)\n",
    "help(min_funksjon)\n",
    "# Slik får vi opp hjelpeteksten til en funksjon. Det finnes hjelpetekst til alle innebygde funksjoner.\n",
    "# Vi skal skrive hjelpetekst til alle våre funksjoner. Det er nyttig både for andre og for oss selv.\n",
    "# Vi glemmer nøyaktig hvordan et program virker når det går litt tid mellom hver gang vi bruker det.\n",
    "# Hjelpeteksten gjør det lettere for oss å sette oss inn i funksjonen igjen."
   ]
  },
  {
   "cell_type": "markdown",
   "metadata": {},
   "source": [
    "### Øving 3\n",
    "#### a)\n",
    "Lag flytskjema for funksjonen som er definert nedenfor. Begynn med å definere hva som må være inputs til funksjonen, og definer hva som vil være akseptable inputs: Tekst, tall, heltall, desimaltall, negative tall, matriser, bildefiler osv.\n",
    "\n",
    "Funksjonen skal ta i mot to vinkler. Begge skal være gitt på samme måte, enten i grader eller i radianer. Brukeren skal gi en tredje input som sier om vinklene er gitt i grader eller radianer. Funksjonen skal beregne tangens til summen av vinklene.\n",
    "\n",
    "Test:\n",
    "\n",
    "ut = min_vinkel(0, math.pi/6, \"radianer\")\n",
    "\n",
    "print(ut)\n",
    "\n",
    "0.5773502691896257\n",
    "\n",
    "ut = min_vinkel(45, 15, \"grader\")\n",
    "\n",
    "print(ut)\n",
    "\n",
    "1.7320508075688767\n",
    "\n",
    "ut = min_vinkel(0, -45, \"grader\")\n",
    "\n",
    "print(ut)\n",
    "\n",
    "-0.9999999999999999\n",
    "\n",
    "\n",
    "Hint: Skriv help(math) i en tom celle og let etter de verktøyene du trenger.\n",
    "\n",
    "#### b)\n",
    "Fyll inn de linjene som mangler i koden nedenfor for å skape en funksjon som beskrevet over. Hvis dine definisjoner av nødvendige inputs eller ditt flytskjema ikke passer med det som er foreslått i skjelettkoden under, modifiser den gjerne for å lage din egen versjon.\n",
    "\n",
    "#### c)\n",
    "Hvis du ikke allerede har gjort det, skriv hjelpetekst til funksjonen."
   ]
  },
  {
   "cell_type": "code",
   "execution_count": null,
   "metadata": {
    "collapsed": true
   },
   "outputs": [],
   "source": [
    "def min_vinkel(): # I parentesen skal det stå inputs.\n",
    "    \"\"\"\n",
    "    Hjelpetekst her.\n",
    "    \"\"\"\n",
    "    import math\n",
    "    \n",
    "    # Undersøk om vinklene er gitt i grader eller radianer.\n",
    "    # Dersom de ikke er gitt i radianer, omform dem til vinkler gitt i radianer.\n",
    "\n",
    "    # Legg sammen vinklene.\n",
    "    \n",
    "    # Beregn tangens til summen av vinklene.\n",
    "    # Returner resultatet."
   ]
  },
  {
   "cell_type": "code",
   "execution_count": null,
   "metadata": {
    "collapsed": true
   },
   "outputs": [],
   "source": [
    "ut = min_vinkel(0, math.pi/6, \"radianer\")\n",
    "print(ut)\n",
    "\n",
    "ut = min_vinkel(45, 15, \"grader\")\n",
    "print(ut)\n",
    "\n",
    "ut = min_vinkel(0, -45, \"grader\")\n",
    "print(ut)"
   ]
  },
  {
   "cell_type": "markdown",
   "metadata": {},
   "source": [
    "### Øving 4\n",
    "#### a)\n",
    "Lag flytskjema for adgangsreglene som er definert nedenfor. Begynn med å definere hva som må være inputs til funksjonen, og definer hva som vil være akseptable inputs: Tekst, tall, heltall, desimaltall, negative tall, matriser, bildefiler osv.\n",
    "\n",
    "For å komme inn på arrangementet gjelder følgende regler:\n",
    "\n",
    "Er man under 10 slipper man ikke inn uansett.\n",
    "\n",
    "Er man mellom 10 og 16 må man ha følge av minst en voksen (18+).\n",
    "\n",
    "Er man mellom 16 og 18 kan man slippe inn med en melding fra en foresatt.\n",
    "\n",
    "Er man over 18 trenger man ikke noe spesielt for å slippe inn. \n",
    "\n",
    "\n",
    "\n",
    "Test:\n",
    "\n",
    "adgang = adgangsregler(9, True, True)\n",
    "\n",
    "print(adgang)\n",
    "\n",
    "adgang = adgangsregler(11, False, True)\n",
    "\n",
    "print(adgang)\n",
    "\n",
    "adgang = adgangsregler(11, True, False)\n",
    "\n",
    "print(adgang)\n",
    "\n",
    "adgang = adgangsregler(18, False, False)\n",
    "\n",
    "print(adgang)\n",
    "\n",
    "False\n",
    "\n",
    "False\n",
    "\n",
    "True\n",
    "\n",
    "True\n",
    "\n",
    "\n",
    "#### b)\n",
    "Fyll inn de linjene som mangler i koden nedenfor for å skape et program som avgjør om noen skal slippe inn på arrangementet basert i følge reglene over. Hvis dine definisjoner av nødvendige inputs ikke passer med det som er foreslått i skjelettkoden under, modifiser den gjerne for å lage din egen versjon."
   ]
  },
  {
   "cell_type": "code",
   "execution_count": null,
   "metadata": {
    "collapsed": true
   },
   "outputs": [],
   "source": [
    "def adgangsregler(alder, følge, melding):\n",
    "    \"\"\"\n",
    "    Hjelpetekst her.\n",
    "    \"\"\"\n",
    "    # Lag en if-else-struktur som undersøker om adgang skal gis.\n",
    "    # Sett adgang = True eller adgang = False.\n",
    "    # Eller gjør det på en annen måte.\n",
    "    \n",
    "    return(adgang)"
   ]
  },
  {
   "cell_type": "code",
   "execution_count": null,
   "metadata": {
    "collapsed": true
   },
   "outputs": [],
   "source": [
    "adgang = adgangsregler(9, True, True)\n",
    "print(adgang)\n",
    "adgang = adgangsregler(11, False, True)\n",
    "print(adgang)\n",
    "adgang = adgangsregler(11, True, False)\n",
    "print(adgang)\n",
    "adgang = adgangsregler(18, False, False)\n",
    "print(adgang)"
   ]
  },
  {
   "cell_type": "markdown",
   "metadata": {},
   "source": [
    "## Pengefordeling\n",
    "\n",
    "### Lønn for husarbeid\n",
    "3 barn, 50 kr/time, 2 timer. Lønnen skal fordeles fra en haug med kronestykker, en mynt til hvert barn om gangen.\n",
    "\n",
    "### Flaskepant\n",
    "Pengehaug, ukjent antall kronestykker. Ingen barn skal få mer enn noen av de andre.\n",
    "\n",
    "### Løkker\n",
    "Hvis vi vet hvor mange ganger noe skal gjøres bruker vi en for-løkke (for-loop). Hvis vi ikke vet hvor mange ganger noe skal gjøres, men vet når vi er ferdige, bruker vi en while-løkke (while-loop).\n",
    "\n",
    "###### Lag flytskjema for de to situasjonene"
   ]
  },
  {
   "cell_type": "code",
   "execution_count": null,
   "metadata": {
    "collapsed": true
   },
   "outputs": [],
   "source": [
    "def pengedeling1(timelønn, timetall):\n",
    "    barn1 = 0\n",
    "    barn2 = 0\n",
    "    barn3 = 0\n",
    "    antallrunder = timelønn * timetall\n",
    "    pengehaug = timelønn * timetall * 3\n",
    "    for i in range(0, antallrunder):\n",
    "        pengehaug -= 3\n",
    "        barn1 += 1\n",
    "        barn2 += 1\n",
    "        barn3 += 1\n",
    "    print('Nå er fordelingen ferdig. Det ble',pengehaug,'krone(r) igjen. Hvert barn fikk',barn1,'krone(r).')"
   ]
  },
  {
   "cell_type": "code",
   "execution_count": null,
   "metadata": {
    "collapsed": true
   },
   "outputs": [],
   "source": [
    "def pengedeling2(pengehaug):\n",
    "    barn1 = 0\n",
    "    barn2 = 0\n",
    "    barn3 = 0\n",
    "    while pengehaug >= 3:\n",
    "        pengehaug -= 3\n",
    "        barn1 += 1\n",
    "        barn2 += 1\n",
    "        barn3 += 1\n",
    "    print('Nå er fordelingen ferdig. Det ble',pengehaug,'krone(r) igjen. Hvert barn fikk',barn1,'krone(r).')"
   ]
  },
  {
   "cell_type": "code",
   "execution_count": null,
   "metadata": {
    "collapsed": true
   },
   "outputs": [],
   "source": [
    "pengedeling2(1)"
   ]
  },
  {
   "cell_type": "markdown",
   "metadata": {},
   "source": [
    "En for-løkke kan i hovedsak lages på to måter. Enten med range-funksjonen som brukt over, eller med en liste med elementer der vi behandler ett og ett. Den andre måten er vist under. Legg merke til de firkantede klammene, og at alle elementene er adskilt med komma."
   ]
  },
  {
   "cell_type": "code",
   "execution_count": null,
   "metadata": {
    "collapsed": true
   },
   "outputs": [],
   "source": [
    "fruktliste = [\"eple\", \"banan\", \"drue\", \"sitron\", \"melon\"]\n",
    "tekst = \"\"\n",
    "for frukt in fruktliste:\n",
    "    print(frukt)\n",
    "    tekst += frukt\n",
    "print(tekst)"
   ]
  },
  {
   "cell_type": "markdown",
   "metadata": {},
   "source": [
    "En liste kan bestå av omtrent hva som helst, inkludert andre lister."
   ]
  },
  {
   "cell_type": "code",
   "execution_count": null,
   "metadata": {
    "collapsed": true
   },
   "outputs": [],
   "source": [
    "listen = [\"tekst\", 3245.54, [\"ting\", \"tang\", 5], \"13 E\"]\n",
    "for element in listen:\n",
    "    print(element)"
   ]
  },
  {
   "cell_type": "markdown",
   "metadata": {},
   "source": [
    "## Struktur for løkker\n",
    "\n",
    "### For-løkker\n",
    "To muligheter:\n",
    "> for ting in [element1, element2, element3, ..., elementn]:\n",
    "\n",
    ">     handling1\n",
    "\n",
    ">     handling2 osv.\n",
    "\n",
    "Eller:\n",
    "> for i in range(start, stopp):\n",
    "\n",
    ">     handling1\n",
    "\n",
    ">     handling2 osv.\n",
    "\n",
    "I prinsippet er metode 2 en variant av den første.\n",
    "\n",
    "### While-løkker (advarsel: while-løkker kan bli uendelige løkker)\n",
    "> initialiser betingelse\n",
    "\n",
    "> while betingelse er oppfylt:\n",
    "\n",
    ">     handling1\n",
    "\n",
    ">     handling2 osv.\n",
    "\n",
    "(Disse handlingene SKAL kunne endre sannhetsverdien til betingelsen i while-løkken, ellers skaper vi uendelige løkker)"
   ]
  },
  {
   "cell_type": "markdown",
   "metadata": {},
   "source": [
    "### Øving 5\n",
    "#### a)\n",
    "Fullfør koden under for å skape en løkke som printer ett og ett partall, fra og med 6 til og med 14. Hvert tall skal printes på en egen linje."
   ]
  },
  {
   "cell_type": "code",
   "execution_count": null,
   "metadata": {
    "collapsed": true
   },
   "outputs": [],
   "source": [
    "for k in range(3, 8):\n",
    "    print(...)"
   ]
  },
  {
   "cell_type": "markdown",
   "metadata": {},
   "source": [
    "### Øving 5\n",
    "#### b)\n",
    "Fullfør koden under for å skape en løkke som på en annen måte printer ett og ett partall, fra og med 6 til og med 14. Hvert tall skal printes på en egen linje."
   ]
  },
  {
   "cell_type": "code",
   "execution_count": null,
   "metadata": {
    "collapsed": true
   },
   "outputs": [],
   "source": [
    "for k in range(6, 15):\n",
    "    if ...:             # Sjekk om tallet er et partall\n",
    "        print(...)"
   ]
  },
  {
   "cell_type": "markdown",
   "metadata": {},
   "source": [
    "### Øving 5\n",
    "#### c)\n",
    "Fullfør koden under for å skape en løkke som går gjennom en liste med tall og printer de tallene som er 20 eller større.\n",
    "\n",
    "Prøv gjerne å endre ordet \"tall\" til f.eks. \"katt\". Hva kan vi skrive på den plassen, hvilke navn kan vi bruke?"
   ]
  },
  {
   "cell_type": "code",
   "execution_count": null,
   "metadata": {
    "collapsed": true
   },
   "outputs": [],
   "source": [
    "tall_liste = [54, 12.3, 95, 2.39, 20, 8, 102.9]\n",
    "for tall in tall_liste:\n",
    "    if ...:           # Sjekk om tallet er 20 eller større.\n",
    "        print(...)"
   ]
  },
  {
   "cell_type": "markdown",
   "metadata": {},
   "source": [
    "Under kan du se en annen struktur for å gjøre den samme oppgaven. Legg merke til at len(tall_liste) er antall elementer i, eller lengden til, listen. Denne strukturen kan være nyttig i andre situasjoner. Styrken med denne strukturen er at vi har i, altså nummereringen til elementene."
   ]
  },
  {
   "cell_type": "code",
   "execution_count": null,
   "metadata": {
    "collapsed": true
   },
   "outputs": [],
   "source": [
    "tall_liste = [54, 12.3, 95, 2.39, 20, 8, 102.9]\n",
    "print(len(tall_liste))\n",
    "\n",
    "for i in range(len(tall_liste)):\n",
    "    print(i)\n",
    "    if ...:\n",
    "        print(...)"
   ]
  },
  {
   "cell_type": "markdown",
   "metadata": {},
   "source": [
    "### Øving 5\n",
    "#### d)\n",
    "Fullfør koden under for å skape en løkke som summerer heltallene 1, 2, 3, osv. til summen er blitt større enn eller lik en gitt terskelverdi. Prøv gjerne med ulike terskelverdier. Når summen er blitt stor nok skal antall tall som måtte summeres og sluttsummen printes. Kontroller med håndberegning."
   ]
  },
  {
   "cell_type": "code",
   "execution_count": 1,
   "metadata": {},
   "outputs": [
    {
     "ename": "IndentationError",
     "evalue": "expected an indented block (<ipython-input-1-5a4b8fdb4311>, line 9)",
     "output_type": "error",
     "traceback": [
      "\u001b[1;36m  File \u001b[1;32m\"<ipython-input-1-5a4b8fdb4311>\"\u001b[1;36m, line \u001b[1;32m9\u001b[0m\n\u001b[1;33m    print(...) # Skriv en tilbakemelding til brukeren\u001b[0m\n\u001b[1;37m        ^\u001b[0m\n\u001b[1;31mIndentationError\u001b[0m\u001b[1;31m:\u001b[0m expected an indented block\n"
     ]
    }
   ],
   "source": [
    "summen = 0\n",
    "tall = 1\n",
    "terskel = 20\n",
    "\n",
    "while ...:\n",
    "    # Legg til tall til summen\n",
    "    # Sørg for at du i neste runde legger til neste tall\n",
    "    \n",
    "print(...) # Skriv en tilbakemelding til brukeren"
   ]
  },
  {
   "cell_type": "markdown",
   "metadata": {},
   "source": [
    "### Øving 6\n",
    "#### a)\n",
    "Fullfør koden under for å skape en funksjon som tar inn en input, sjekker om den er partall OG om den er heltall. Her bruker vi definisjonen at dersom resten når man deler tallet på 2 er 0 er det et partall, og heltall er type int i Python. Se eksempel under."
   ]
  },
  {
   "cell_type": "code",
   "execution_count": null,
   "metadata": {
    "collapsed": true
   },
   "outputs": [],
   "source": [
    "a = \"tekst og ord og sånn\"\n",
    "b = 3\n",
    "c = 3.0\n",
    "print(type(a))\n",
    "print(type(b))\n",
    "print(type(c))\n",
    "# \"str\" er string, altså tekst. \"int\" er integer, altså heltall. \"float\" er flyttall, altså desimaltall.\n",
    "# Det er en viktig forskjell på 3 og 3.0. Vi MÅ bruke heltall mange steder i programmering.\n",
    "\n",
    "print(33 % 2)\n",
    "print(34 % 2)\n",
    "print(1234567 % 2)\n",
    "print(3476427645376327632 % 2)\n",
    "# Prosenttegnet gir oss resten dersom vi deler heltallene på hverandre.\n",
    "# 33 % 2 kan leses som \"hva blir det igjen hvis vi tar 33 og deler likt på 2?\""
   ]
  },
  {
   "cell_type": "code",
   "execution_count": null,
   "metadata": {
    "collapsed": true
   },
   "outputs": [],
   "source": [
    "def sjekk_heltall_partall(tall):\n",
    "    if type(tall) ... and ...:\n",
    "        return(True)\n",
    "    else:\n",
    "        return(...)"
   ]
  },
  {
   "cell_type": "markdown",
   "metadata": {},
   "source": [
    "### Øving 6\n",
    "#### b)\n",
    "Fullfør koden under for å skape en funksjon som tar inn to inputs og sjekker om de er partall OG om de er heltall. Her bruker vi definisjonen at dersom resten når man deler tallet på 2 er 0 er det et partall, og heltall er type int i Python. Se eksempel i øving 5c."
   ]
  },
  {
   "cell_type": "code",
   "execution_count": null,
   "metadata": {
    "collapsed": true
   },
   "outputs": [],
   "source": [
    "def sjekk_heltall_partall2(tall1, tall2):\n",
    "    if type(tall1) ... and ... ... ... ...:\n",
    "        return(True)\n",
    "    else:\n",
    "        return(False)"
   ]
  },
  {
   "cell_type": "markdown",
   "metadata": {},
   "source": [
    "### Øving 6\n",
    "#### c)\n",
    "Fullfør koden under for å skape en funksjon som bruker en while-løkke for å printe ett og ett partall. Brukeren skal gi det første og det siste partallet. Funksjonen skal kontrollere at inputen er riktig (partall og heltall) og at sluttverdien er større enn eller lik startverdien. Bruk funksjonen sjekk_heltall_partall2 fra forrige øving til å kontrollere om inputen er partall og heltall. Dette innebærer at du først må kjøre cellen med den funksjonen én gang, så er denne funksjonen tilgjengelig også for andre celler som kjøres senere.\n",
    "\n",
    "Hvis du ønsker å strukturere funksjonen din annerledes enn foreslått i skjelettkoden under, modifiser den så du kan skrive slik du selv vil. Husk å teste den ferdige funksjonen så du vet at den oppfører seg som den skal både for riktig og for gal input.\n",
    "\n",
    "Test:\n",
    "\n",
    "partall_print(20,8)\n",
    "\n",
    "partall_print(8,20)\n",
    "\n",
    "partall_print(8,20.0)\n",
    "\n",
    "partall_print(15,20)\n",
    "\n",
    "Du ga en sluttverdi som var mindre enn startverdien.\n",
    "\n",
    "8\n",
    "\n",
    "10\n",
    "\n",
    "12\n",
    "\n",
    "14\n",
    "\n",
    "16\n",
    "\n",
    "18\n",
    "\n",
    "20\n",
    "\n",
    "Du ga ikke to tall som begge er både partall og heltall.\n",
    "\n",
    "Du ga ikke to tall som begge er både partall og heltall."
   ]
  },
  {
   "cell_type": "code",
   "execution_count": null,
   "metadata": {
    "collapsed": true
   },
   "outputs": [],
   "source": [
    "def partall_print(første, siste):\n",
    "    \"\"\"\n",
    "    Her er det hjelpetekst som forklarer funksjonen.\n",
    "    \"\"\"\n",
    "    if sjekk_heltall_partall2(første, siste) == False:\n",
    "        print(\"Feilmelding som sier i fra om at inputen ikke var riktig.\")\n",
    "        return(None)\n",
    "    if siste < første:\n",
    "        print(\"Feilmelding som sier i fra om at inputen ikke var riktig.\")\n",
    "        return(None)\n",
    "    tall = første\n",
    "    while tall <= siste:\n",
    "        # Her må du sjekke om tallet er partall eller ikke, og printe hvis det er partall.\n",
    "        tall += 1\n",
    "    return(None)"
   ]
  },
  {
   "cell_type": "code",
   "execution_count": null,
   "metadata": {
    "collapsed": true
   },
   "outputs": [],
   "source": [
    "partall_print(20,8)\n",
    "partall_print(8,20)\n",
    "partall_print(8,20.0)\n",
    "partall_print(15,20)"
   ]
  },
  {
   "cell_type": "markdown",
   "metadata": {},
   "source": [
    "### Øving 7\n",
    "#### a)\n",
    "Skriv flytskjema for en funksjon som tar en liste som input og som returnerer summen av tallene i listen. Funksjonen skal bruke en for-løkke for å gå gjennom elementene i en liste som er gitt som input til funksjonen. Dersom elementet er et tall (int eller float) skal det legges til i en sum som defineres før løkken. Tenk spesielt over hvordan du sjekker om elementet er et tall. Negative verdier legges til med sitt fortegn, slik at summen reduseres.\n",
    "\n",
    "#### b)\n",
    "Fullfør koden under for å skape en funksjon som definert over. (OBS: Ikke bruk ordene \"sum\" eller \"list\" som variabelnavn, siden det er navn på en innebygde funksjoner i Python)\n",
    "\n",
    "Hvis du ønsker å strukturere funksjonen din annerledes enn foreslått i skjelettkoden under, modifiser den så du kan skrive slik du selv vil. Husk å teste den ferdige funksjonen så du vet at den oppfører seg som den skal både for riktig og for gal input.\n",
    "\n",
    "Test:\n",
    "\n",
    "import math\n",
    "\n",
    "print(summer_tall([1, 2, 3]))\n",
    "\n",
    "print(summer_tall([1.2, -3, math.pi, math.sqrt(2)]))\n",
    "\n",
    "print(summer_tall([\"hei\", 3, \"eple\", 8.9]))\n",
    "\n",
    "print(summer_tall([5, [1, 2, 3], \"tekst\", 11]))\n",
    "\n",
    "print(summer_tall([]))\n",
    "\n",
    "6\n",
    "\n",
    "2.755806215962888\n",
    "\n",
    "11.9\n",
    "\n",
    "16\n",
    "\n",
    "0"
   ]
  },
  {
   "cell_type": "code",
   "execution_count": null,
   "metadata": {
    "collapsed": true
   },
   "outputs": [],
   "source": [
    "def summer_tall(listen):\n",
    "    # definer en variabel som skal telle tallene i listen\n",
    "    for ... in listen:\n",
    "        # Avgjør om elementet i listen er et tall eller ikke. Husk at det finnes to typer tall: int og float\n",
    "        # Hvis det skal legges til, legg det til. Ellers, ikke gjør noe.\n",
    "    return(...)"
   ]
  },
  {
   "cell_type": "code",
   "execution_count": null,
   "metadata": {
    "collapsed": true
   },
   "outputs": [],
   "source": [
    "import math\n",
    "print(summer_tall([1, 2, 3]))\n",
    "print(summer_tall([1.2, -3, math.pi, math.sqrt(2)]))\n",
    "print(summer_tall([\"hei\", 3, \"eple\", 8.9]))\n",
    "print(summer_tall([5, [1, 2, 3], \"tekst\", 11]))\n",
    "print(summer_tall([]))"
   ]
  },
  {
   "cell_type": "markdown",
   "metadata": {},
   "source": [
    "### Øving 8\n",
    "#### a)\n",
    "Skriv flytskjema for en funksjon som tar en liste som input og som returnerer summen av de positive tallene i listen. Funksjonen skal bruke en for-løkke for å gå gjennom elementene i en liste som er gitt som input til funksjonen. Dersom elementet er et tall (int eller float) skal det legges til i en sum som defineres før løkken. Tenk spesielt over hvordan du sjekker om elementet er et tall.\n",
    "\n",
    "#### b)\n",
    "Fullfør koden under for å skape en funksjon som definert over. (OBS: Ikke bruk ordene \"sum\" eller \"list\" som variabelnavn, siden det er navn på en innebygde funksjoner i Python)\n",
    "\n",
    "Hvis du ønsker å strukturere funksjonen din annerledes enn foreslått i skjelettkoden under, modifiser den så du kan skrive slik du selv vil. Husk å teste den ferdige funksjonen så du vet at den oppfører seg som den skal både for riktig og for gal input.\n",
    "\n",
    "Test:\n",
    "\n",
    "import math\n",
    "\n",
    "print(summer_tall([1, 2, 3]))\n",
    "\n",
    "print(summer_tall([1.2, -3, math.pi, math.sqrt(2)]))\n",
    "\n",
    "print(summer_tall([\"hei\", 3, \"eple\", 8.9]))\n",
    "\n",
    "print(summer_tall([5, [1, 2, 3], \"tekst\", 11]))\n",
    "\n",
    "print(summer_tall([]))\n",
    "\n",
    "6\n",
    "\n",
    "5.755806215962888\n",
    "\n",
    "11.9\n",
    "\n",
    "16\n",
    "\n",
    "0"
   ]
  },
  {
   "cell_type": "code",
   "execution_count": null,
   "metadata": {
    "collapsed": true
   },
   "outputs": [],
   "source": [
    "def summer_tall(listen):\n",
    "    # definer en variabel som skal telle tallene i listen.\n",
    "    for ... in listen:\n",
    "        # Avgjør om elementet i listen er et tall eller ikke.\n",
    "        # Dersom det er et tall, avgjør om tallet er positivt eller ikke.\n",
    "        # Hvis det skal legges til, legg det til. Ellers, ikke gjør noe.\n",
    "    return(...)"
   ]
  },
  {
   "cell_type": "code",
   "execution_count": null,
   "metadata": {
    "collapsed": true
   },
   "outputs": [],
   "source": [
    "import math\n",
    "print(summer_tall([1, 2, 3]))\n",
    "print(summer_tall([1.2, -3, math.pi, math.sqrt(2)]))\n",
    "print(summer_tall([\"hei\", 3, \"eple\", 8.9]))\n",
    "print(summer_tall([5, [1, 2, 3], \"tekst\", 11]))\n",
    "print(summer_tall([]))"
   ]
  },
  {
   "cell_type": "markdown",
   "metadata": {},
   "source": [
    "Lister er ekstremt nyttige verktøy. Bruk gjerne litt tid på filen som behandler lister. Det er to viktige ting man må kunne: Opprette en ny liste, og bruke/modifisere en eksisterende liste. Det er flere måter å opprette lister på, og det er mange måter å bruke lister på. Dette er et tema som tar tid å gå gjennom, men som er veldig nyttig."
   ]
  },
  {
   "cell_type": "markdown",
   "metadata": {},
   "source": [
    "## Stein, saks, papir\n",
    "En lek vi alle kjenner: To personer spiller. Man velger stein, saks eller papir. Hvis spillerne velger det samme blir det uavgjort. Hvis de velger ulikt vinner en av dem. Stein slår saks, saks slår papir, og papir slår stein.\n",
    "\n",
    "Hva må vi gjøre for å spille mot en datamaskin som kan velge tilfeldig blant de tre alternativene?"
   ]
  },
  {
   "cell_type": "markdown",
   "metadata": {},
   "source": [
    "### Øving 9\n",
    "#### a)\n",
    "Skriv flytskjema for en funksjon som tar i mot input fra en bruker (\"stein\", \"saks\" eller \"papir\"), genererer et tilfeldig valg for datamaskinen, og som avgjør utfallet av leken. Du trenger ikke kontrollere om inputene fra brukeren er gyldige (riktige ord, bare små bokstaver osv.), men du kan gjøre det hvis du vil. Du kan gjerne legge inn et spørsmål om spillet skal gjentas eller avsluttes etter hver runde.\n",
    "\n",
    "#### b)\n",
    "Fullfør koden under for å skape en funksjon som definert over.\n",
    "\n",
    "Hvis du ønsker å strukturere funksjonen din annerledes enn foreslått i skjelettkoden under, modifiser den så du kan skrive slik du selv vil. Husk å teste den ferdige funksjonen så du vet at den oppfører seg som den skal både for riktig og for gal input."
   ]
  },
  {
   "cell_type": "code",
   "execution_count": null,
   "metadata": {
    "collapsed": true
   },
   "outputs": [],
   "source": [
    "def steinsakspapir(bruker):\n",
    "    \"\"\"\n",
    "    Hjelpetekst her.\n",
    "    \"\"\"\n",
    "\n",
    "    import random\n",
    "\n",
    "    if bruker == 'stein' or bruker == 'saks' or bruker == 'papir':\n",
    "        pc = random.choice(['stein', 'saks', 'papir'])\n",
    "        print('PCen valgte',pc)\n",
    "        if # Her skal det være en kontroll som sjekker om det ble uavgjort.\n",
    "            # Her skal det være en melding som printes hvis det blir uavgjort.\n",
    "        else:\n",
    "            if bruker == 'stein':\n",
    "                # Her skal det være kode som sjekker hva maskinen valgte og hvem som vant.\n",
    "            elif bruker == 'saks':\n",
    "                # Her skal det være kode som sjekker hva maskinen valgte og hvem som vant.\n",
    "            else:\n",
    "                # Her skal det være kode som sjekker hva maskinen valgte og hvem som vant.\n",
    "    else:\n",
    "        print('Ugyldig input.')"
   ]
  },
  {
   "cell_type": "code",
   "execution_count": null,
   "metadata": {
    "collapsed": true
   },
   "outputs": [],
   "source": [
    "steinsakspapir('saks')"
   ]
  },
  {
   "cell_type": "markdown",
   "metadata": {},
   "source": [
    "Hva med oppskalering? Hvis vi gjør det til rock-paper-scissors-lizard-Spock, hvordan må koden endres?\n",
    "\n",
    "https://www.youtube.com/watch?v=Kov2G0GouBw\n",
    "\n",
    "Scissors cuts paper\n",
    "\n",
    "Paper covers rock\n",
    "\n",
    "Rock crushes lizard\n",
    "\n",
    "Lizard poisons Spock\n",
    "\n",
    "Spock smashes scissors\n",
    "\n",
    "Scissors decapitates lizard\n",
    "\n",
    "Lizard eats paper\n",
    "\n",
    "Paper disproves Spock\n",
    "\n",
    "Spock vaporizes rock\n",
    "\n",
    "Rock crushes scissors\n",
    "\n",
    "Og hva med RPS-15?\n",
    "http://i.imgur.com/7YuFHUU.jpg\n",
    "\n",
    "Eller RPS-101?\n",
    "\n",
    "Under ser vi hvordan man kan skrive det litt mer kompakt. Her defineres variabelen \"vinnere\" som en dictionary. Det er et element som ikke dekkes i dette kurset. Enkelt forklart kobler det et element til et annet element. Her er det brukt for å koble hvert mulige valg til de tingene som blir slått at det valget."
   ]
  },
  {
   "cell_type": "code",
   "execution_count": null,
   "metadata": {
    "collapsed": true
   },
   "outputs": [],
   "source": [
    "import random\n",
    "\n",
    "alternativer = ['stein', 'saks', 'papir', 'øgle', 'Spock']\n",
    "\n",
    "vinnere = {'stein': ['øgle', 'saks'], 'saks': ['papir', 'øgle'],\\\n",
    "          'papir': ['stein', 'Spock'], 'øgle': ['Spock', 'papir'],\\\n",
    "          'Spock': ['saks', 'stein']}\n",
    "\n",
    "bruker = input('Hva velger du? '+str(alternativer)+'\\n')\n",
    "if bruker in alternativer:\n",
    "    pc = random.choice(alternativer)\n",
    "    print('PCen valgte',pc)\n",
    "    if pc == bruker:\n",
    "        print('Uavgjort.')\n",
    "    else:\n",
    "        if pc in vinnere[bruker]:\n",
    "            print('Brukeren vant!')\n",
    "        else:\n",
    "            print('PCen vant!')\n",
    "else:\n",
    "    print('Ugyldig input.')"
   ]
  },
  {
   "cell_type": "markdown",
   "metadata": {},
   "source": [
    "## Faktorisering\n",
    "Vi skal nå faktorisere tall på litt ulike måter."
   ]
  },
  {
   "cell_type": "markdown",
   "metadata": {},
   "source": [
    "### Øving 10\n",
    "#### a)\n",
    "Skriv flytskjema for en funksjon som tar i mot et positivt heltall input fra en bruker og som printer alle tall som dette tallet kan deles på. Vi ønsker ikke å få opp tallet 1, siden det er trivielt, vi vet at alle positive heltall kan deles på 1. Dersom et tall ikke har noen faktorer skal meldingen \"[Tallet] er et primtall!\" printes. Du trenger ikke kontrollere om inputen fra brukeren er gyldig, men du kan gjøre det hvis du vil.\n",
    "\n",
    "#### b)\n",
    "Fullfør koden under for å skape en funksjon som definert over. Du skal ikke bruke noen \"avanserte\" funksjoner som faktoriserer tallet direkte.\n",
    "\n",
    "Hvis du ønsker å strukturere funksjonen din annerledes enn foreslått i skjelettkoden under, modifiser den så du kan skrive slik du selv vil. Husk å teste den ferdige funksjonen så du vet at den oppfører seg som den skal både for riktig og for gal input.\n",
    "\n",
    "Test:\n",
    "\n",
    "print_faktorer(15)\n",
    "\n",
    "print_faktorer(17)\n",
    "\n",
    "print_faktorer(32)\n",
    "\n",
    "print_faktorer(83)\n",
    "\n",
    "15 har 3 som en faktor.\n",
    "\n",
    "15 har 5 som en faktor.\n",
    "\n",
    "17 er et primtall!\n",
    "\n",
    "32 har 2 som en faktor.\n",
    "\n",
    "32 har 4 som en faktor.\n",
    "\n",
    "32 har 8 som en faktor.\n",
    "\n",
    "32 har 16 som en faktor.\n",
    "\n",
    "83 er et primtall!"
   ]
  },
  {
   "cell_type": "code",
   "execution_count": null,
   "metadata": {
    "collapsed": true
   },
   "outputs": [],
   "source": [
    "def print_faktorer(tallet):\n",
    "    # Definer noe som skal brukes i kontrollen i while-løkken under\n",
    "    primtall = True # Vi kan sette denne til true, og så endre det hvis vi finner en faktor\n",
    "    while # Hvor mange tall skal sjekkes?\n",
    "        if # Hva skal til for at et tall er en faktor av tallet?\n",
    "            print( # Print en beskjed til bruker, inkludert faktoren.\n",
    "            primtall = False # Endrer denne til false siden vi har funnet en faktor\n",
    "        i += 1   \n",
    "    if primtall: # Sjekk på om tallet hadde noen faktorer\n",
    "        print( # Print en beskjed til bruker om at tallet er et primtall"
   ]
  },
  {
   "cell_type": "code",
   "execution_count": null,
   "metadata": {
    "collapsed": true
   },
   "outputs": [],
   "source": [
    "print_faktorer(15)\n",
    "print_faktorer(17)\n",
    "print_faktorer(32)\n",
    "print_faktorer(83)"
   ]
  },
  {
   "cell_type": "markdown",
   "metadata": {},
   "source": [
    "## Generere tabell med funksjonsverdier og plotte\n",
    "Vi kan lage tabeller med x-verdier og y-verdier for en funksjon og plotte disse, f.eks. ved å bruke en løkke. En god måte å lagre tabellen er som to lister, en med x-verdier og en med y-verdier."
   ]
  },
  {
   "cell_type": "code",
   "execution_count": null,
   "metadata": {
    "collapsed": true
   },
   "outputs": [],
   "source": [
    "x = []\n",
    "y = []\n",
    "for i in range(-5, 6):\n",
    "    x.append(i)\n",
    "    y.append(i**2)\n",
    "print(x)\n",
    "print(y)"
   ]
  },
  {
   "cell_type": "code",
   "execution_count": null,
   "metadata": {
    "collapsed": true
   },
   "outputs": [],
   "source": [
    "import matplotlib.pyplot as plt\n",
    "%matplotlib notebook\n",
    "plt.figure()\n",
    "plt.plot(x, y)\n",
    "plt.show()"
   ]
  },
  {
   "cell_type": "markdown",
   "metadata": {},
   "source": [
    "Metoden over er ok, men litt tungvint, særlig hvis vi vil ha x-verdier mellom heltallene, f.eks. 0.01, 0.02, 0.03 osv. Da kan vi bruke Numpy."
   ]
  },
  {
   "cell_type": "code",
   "execution_count": null,
   "metadata": {
    "collapsed": true
   },
   "outputs": [],
   "source": [
    "import numpy as np\n",
    "x = np.linspace(0, 1, 101) # start, stopp, antall\n",
    "print(x)"
   ]
  },
  {
   "cell_type": "code",
   "execution_count": null,
   "metadata": {
    "collapsed": true,
    "scrolled": false
   },
   "outputs": [],
   "source": [
    "import numpy as np\n",
    "x = np.linspace(-5, 5, 101) # start, stopp, antall\n",
    "y = x**2 # Når x er et numpy-objekt kan vi ta hele\n",
    "         # vektoren kvadrert og får ett og ett element kvadrert.\n",
    "         # Numpy skjønner at vi trolig ønsker å kvadrere ett og ett element.\n",
    "         # Dersom det faktisk er prikk-produktet mellom vektorene du ønsker\n",
    "        # finnes det en egen funksjon for det.\n",
    "plt.figure()\n",
    "plt.plot(x, y)\n",
    "plt.show()"
   ]
  },
  {
   "cell_type": "code",
   "execution_count": null,
   "metadata": {
    "collapsed": true,
    "scrolled": false
   },
   "outputs": [],
   "source": [
    "x = np.linspace(-2*np.pi, 2*np.pi, 1001) # start, stopp, antall\n",
    "y = np.sin(x)\n",
    "plt.figure()\n",
    "plt.plot(x, y)\n",
    "plt.grid()\n",
    "plt.show()"
   ]
  },
  {
   "cell_type": "markdown",
   "metadata": {},
   "source": [
    "### Øving 11\n",
    "#### a)\n",
    "Skriv flytskjema for en funksjon som tar i mot input fra en bruker. Det skal være to inputs, den første er frekvensen til en sinus-funksjon, den andre er amplituden. Din funksjon skal generere t-verdier (eller x-verdier om du vil) mellom 0 og 2 pi og beregne y-verdier for en sinusfunksjon etter mønsteret:\n",
    "\n",
    "amplitude ganger sinus(frekvens ganger t)\n",
    "\n",
    "Til slutt skal grafen plottes.\n",
    "\n",
    "#### b)\n",
    "Fullfør koden under for å skape en funksjon som definert over.\n",
    "\n",
    "Hvis du ønsker å strukturere funksjonen din annerledes enn foreslått i skjelettkoden under, modifiser den så du kan skrive slik du selv vil. Husk å teste den ferdige funksjonen så du vet at den oppfører seg som den skal både for riktig og for gal input.\n",
    "\n",
    "###### Rett under ser du en figur som viser hvordan outputen skal være dersom man kjører funksjonen med inputs 2 og 3, altså frekvens 2 og amplitude 3."
   ]
  },
  {
   "cell_type": "code",
   "execution_count": null,
   "metadata": {
    "collapsed": true
   },
   "outputs": [],
   "source": [
    "plotsin(2, 3)"
   ]
  },
  {
   "cell_type": "code",
   "execution_count": null,
   "metadata": {
    "collapsed": true
   },
   "outputs": [],
   "source": [
    "def plotsin(frekvens, amplitude):\n",
    "    import matplotlib.pyplot as plt\n",
    "    %matplotlib notebook\n",
    "    import numpy as np\n",
    "\n",
    "    t = # Generer t-verdier\n",
    "\n",
    "    y = # Beregn y-verdier\n",
    "\n",
    "    # Opprett en figur\n",
    "    # Plot x og y\n",
    "    # Skru på rutenett\n",
    "    # Vis figuren"
   ]
  },
  {
   "cell_type": "code",
   "execution_count": null,
   "metadata": {
    "collapsed": true
   },
   "outputs": [],
   "source": [
    "plotsin(2, 3)"
   ]
  },
  {
   "cell_type": "markdown",
   "metadata": {},
   "source": [
    "### Øving 12\n",
    "#### a)\n",
    "Skriv flytskjema for en funksjon som tar i mot input fra en bruker. Det skal være fire inputs. Den første er frekvensen til en sinus-funksjon, den andre er amplituden. Den tredje er frekvensen til en cosinus-funksjon, den andre er amplituden til cosinus-funksjonen. Din funksjon skal generere t-verdier (eller x-verdier om du vil) mellom 0 og 2 pi og beregne y-verdier for både sinusfunksjonen og cosinusfunksjonen etter mønsteret:\n",
    "\n",
    "amplitude1 ganger sinus(frekvens1 ganger t)\n",
    "amplitude2 ganger cosinus(frekvens2 ganger t)\n",
    "\n",
    "Til slutt skal begge grafene plottes i samme figur.\n",
    "\n",
    "#### b)\n",
    "Fullfør koden under for å skape en funksjon som definert over.\n",
    "\n",
    "Hvis du ønsker å strukturere funksjonen din annerledes enn foreslått i skjelettkoden under, modifiser den så du kan skrive slik du selv vil. Husk å teste den ferdige funksjonen så du vet at den oppfører seg som den skal både for riktig og for gal input.\n",
    "\n",
    "###### Hint: Du kan bestemme fargen til en graf ved å legge til en bokstav for fargen etter x og y. plt.plot(t, y1, 'r') gir en rød graf. Kodene for noen av de tilgjengelige fargene er b: blue, g: green, r: red, c: cyan, m: magenta, y: yellow, k: black og w: white.\n",
    "\n",
    "###### Rett under ser du en figur som viser hvordan outputen skal være dersom man kjører funksjonen med inputs 2, 3, 1 og 5, altså frekvens 2 og amplitude 3 for sinus og frekvens 1 og amplitude 5 for cosinus. Her er det definert at sinus tegnes i rødt og cosinus i grønt. Du kan bruke andre farger hvis du vil."
   ]
  },
  {
   "cell_type": "code",
   "execution_count": null,
   "metadata": {
    "collapsed": true
   },
   "outputs": [],
   "source": [
    "plotsin(2, 3, 1, 5)"
   ]
  },
  {
   "cell_type": "code",
   "execution_count": null,
   "metadata": {
    "collapsed": true
   },
   "outputs": [],
   "source": [
    "def plotsin(frekvens1, amplitude1, frekvens2, amplitude2):\n",
    "    import matplotlib.pyplot as plt\n",
    "    %matplotlib notebook\n",
    "    import numpy as np\n",
    "\n",
    "    # Generer t-verdier.\n",
    "\n",
    "    # Beregn y-verdier for sinus\n",
    "    # Beregn y-verdier for cosinus\n",
    "    \n",
    "    # Opprett en figur\n",
    "    # Plot x og y for sinus\n",
    "    # Plot x og y for cosinus\n",
    "    # Skru på rutenett\n",
    "    # Vis figuren"
   ]
  },
  {
   "cell_type": "code",
   "execution_count": null,
   "metadata": {
    "collapsed": true
   },
   "outputs": [],
   "source": [
    "plotsin(2, 3, 1, 5)"
   ]
  },
  {
   "cell_type": "markdown",
   "metadata": {},
   "source": [
    "### Vakre figurer og plots\n",
    "Når vi ikke vet hvordan vi kan lage fine plots og hvilke kommandoer som finnes kan vi bruke andres eksempler og modifisere dem for å passe til våre data. Vi bruker matplotlibs galleri med eksempler:\n",
    "http://matplotlib.org/gallery.html\n",
    "\n",
    "Man kan også lese tutorialen:\n",
    "http://matplotlib.org/users/pyplot_tutorial.html\n",
    "\n",
    "Eller FAQen:\n",
    "http://matplotlib.org/faq/usage_faq.html\n",
    "\n",
    "Flere ressurser her:\n",
    "http://matplotlib.org/resources/index.html"
   ]
  },
  {
   "cell_type": "code",
   "execution_count": null,
   "metadata": {
    "collapsed": true
   },
   "outputs": [],
   "source": [
    "# http://matplotlib.org/examples/ticks_and_spines/spines_demo_bounds.html\n",
    "\n",
    "import numpy as np\n",
    "import matplotlib.pyplot as plt\n",
    "\n",
    "\n",
    "x = np.linspace(0, 2*np.pi, 50)\n",
    "y = np.sin(x)\n",
    "y2 = y + 0.1 * np.random.normal(size=x.shape)\n",
    "\n",
    "fig, ax = plt.subplots()\n",
    "ax.plot(x, y, 'k--')\n",
    "ax.plot(x, y2, 'ro')\n",
    "\n",
    "# set ticks and tick labels\n",
    "ax.set_xlim((0, 2*np.pi))\n",
    "ax.set_xticks([0, np.pi, 2*np.pi])\n",
    "ax.set_xticklabels(['0', '$\\pi$', '2$\\pi$'])\n",
    "ax.set_ylim((-1.5, 1.5))\n",
    "ax.set_yticks([-1, 0, 1])\n",
    "\n",
    "# Only draw spine between the y-ticks\n",
    "ax.spines['left'].set_bounds(-1, 1)\n",
    "# Hide the right and top spines\n",
    "ax.spines['right'].set_visible(False)\n",
    "ax.spines['top'].set_visible(False)\n",
    "# Only show ticks on the left and bottom spines\n",
    "ax.yaxis.set_ticks_position('left')\n",
    "ax.xaxis.set_ticks_position('bottom')\n",
    "\n",
    "plt.show()"
   ]
  },
  {
   "cell_type": "code",
   "execution_count": null,
   "metadata": {
    "collapsed": true
   },
   "outputs": [],
   "source": [
    "# http://matplotlib.org/examples/subplots_axes_and_figures/subplot_demo.html\n",
    "\n",
    "\"\"\"\n",
    "Simple demo with multiple subplots.\n",
    "\"\"\"\n",
    "import numpy as np\n",
    "import matplotlib.pyplot as plt\n",
    "\n",
    "\n",
    "x1 = np.linspace(0.0, 5.0)\n",
    "x2 = np.linspace(0.0, 2.0)\n",
    "\n",
    "y1 = np.cos(2 * np.pi * x1) * np.exp(-x1)\n",
    "y2 = np.cos(2 * np.pi * x2)\n",
    "\n",
    "plt.figure()\n",
    "plt.subplot(2, 1, 1)\n",
    "plt.plot(x1, y1, 'yo-')\n",
    "plt.title('A tale of 2 subplots')\n",
    "plt.ylabel('Damped oscillation')\n",
    "\n",
    "plt.subplot(2, 1, 2)\n",
    "plt.plot(x2, y2, 'r.-')\n",
    "plt.xlabel('time (s)')\n",
    "plt.ylabel('Undamped')\n",
    "\n",
    "plt.show()"
   ]
  },
  {
   "cell_type": "code",
   "execution_count": null,
   "metadata": {
    "collapsed": true
   },
   "outputs": [],
   "source": [
    "from mpl_toolkits.mplot3d import Axes3D\n",
    "from matplotlib import cm\n",
    "from matplotlib.ticker import LinearLocator, FormatStrFormatter\n",
    "import matplotlib.pyplot as plt\n",
    "import numpy as np\n",
    "\n",
    "fig = plt.figure()\n",
    "ax = fig.gca(projection='3d')\n",
    "X = np.arange(-5, 5, 0.25)\n",
    "Y = np.arange(-5, 5, 0.25)\n",
    "X, Y = np.meshgrid(X, Y)\n",
    "R = np.sqrt(X**2 + Y**2)\n",
    "Z = np.sin(R)\n",
    "surf = ax.plot_surface(X, Y, Z, rstride=1, cstride=1, cmap=cm.coolwarm,\n",
    "                       linewidth=0, antialiased=False)\n",
    "ax.set_zlim(-1.01, 1.01)\n",
    "\n",
    "ax.zaxis.set_major_locator(LinearLocator(10))\n",
    "ax.zaxis.set_major_formatter(FormatStrFormatter('%.02f'))\n",
    "\n",
    "fig.colorbar(surf, shrink=0.5, aspect=5)\n",
    "\n",
    "plt.show()"
   ]
  },
  {
   "cell_type": "markdown",
   "metadata": {},
   "source": [
    "### Project Euler\n",
    "Dette er en kilde til øvingsoppgaver som lar oss trene på numeriske programmeringsproblemer. Se f.eks. denne oppgaven: \n",
    "https://projecteuler.net/problem=5\n",
    "\n",
    "Vi kan sjekke om et tall kan deles på 1, i så fall sjekke om det kan deles på 1, 2, 3, osv. til og med 10. Hvis det ikke går kan vi øke med 1 og sjekke neste tall. Slik kan vi fortsette helt til vi finner et tall som kan deles på alle tallene 1-10.\n",
    "\n",
    "Kan være smart å legge inn en mulighet for å stoppe løkken i tilfelle vi har skrevet programmet feil slik at det ellers ville kjørt en uendelig løkke."
   ]
  },
  {
   "cell_type": "code",
   "execution_count": null,
   "metadata": {
    "collapsed": true
   },
   "outputs": [],
   "source": [
    "funnet = False\n",
    "tallet = 0\n",
    "antallrunder = 0\n",
    "\n",
    "while funnet == False:\n",
    "    antallrunder += 1\n",
    "    tallet += 1\n",
    "    divisorer = 0\n",
    "    \n",
    "    for n in range(1, 11):\n",
    "        if tallet % n == 0:\n",
    "            divisorer += 1\n",
    "\n",
    "    if divisorer == 10:\n",
    "        funnet = True\n",
    "\n",
    "    if antallrunder == 10**4:\n",
    "        print('Grense for antall runder overskredet, fant ikke passende tall.')\n",
    "        break\n",
    "\n",
    "print(tallet)"
   ]
  },
  {
   "cell_type": "markdown",
   "metadata": {},
   "source": [
    "Det vil naturligvis gå an å gjøre dette mye smartere, f.eks. ved å faktorisere tallene 1-10 og finne minste felles multiplum av faktorene direkte. Det er også mulig å modifisere programmet vårt litt, f.eks. ved å si at tallet må gå opp i både 7, 8 og 9, derfor må tallet vi ser etter være et multiplum av 504. Vi kan derfor nøye oss med å sjekke hver 504. verdi."
   ]
  },
  {
   "cell_type": "code",
   "execution_count": null,
   "metadata": {
    "collapsed": true
   },
   "outputs": [],
   "source": [
    "# import time\n",
    "# start_time = time.time()\n",
    "\n",
    "funnet = False\n",
    "tallet = 0\n",
    "antallrunder = 0\n",
    "\n",
    "while funnet == False:\n",
    "    antallrunder += 1\n",
    "    tallet += 504\n",
    "    divisorer = 0\n",
    "    \n",
    "    for n in range(1, 11):\n",
    "        if tallet % n == 0:\n",
    "            divisorer += 1\n",
    "\n",
    "    if divisorer == 10:\n",
    "        funnet = True\n",
    "\n",
    "    if antallrunder == 10**4:\n",
    "        print('Grense for antall runder overskredet, fant ikke passende tall.')\n",
    "        break\n",
    "\n",
    "print(tallet)\n",
    "\n",
    "# print(\"--- %s seconds ---\" % round(time.time() - start_time, 2))"
   ]
  },
  {
   "cell_type": "markdown",
   "metadata": {},
   "source": [
    "Modifiser skriptet over for å finne minste felles multiplum av alle heltallene fra 1 til N."
   ]
  }
 ],
 "metadata": {
  "anaconda-cloud": {},
  "kernelspec": {
   "display_name": "Python 3",
   "language": "python",
   "name": "python3"
  },
  "language_info": {
   "codemirror_mode": {
    "name": "ipython",
    "version": 3
   },
   "file_extension": ".py",
   "mimetype": "text/x-python",
   "name": "python",
   "nbconvert_exporter": "python",
   "pygments_lexer": "ipython3",
   "version": "3.6.2"
  }
 },
 "nbformat": 4,
 "nbformat_minor": 1
}
